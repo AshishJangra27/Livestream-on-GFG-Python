{
  "nbformat": 4,
  "nbformat_minor": 0,
  "metadata": {
    "colab": {
      "name": "Mastering Lists in Python",
      "provenance": []
    },
    "kernelspec": {
      "name": "python3",
      "display_name": "Python 3"
    },
    "language_info": {
      "name": "python"
    }
  },
  "cells": [
    {
      "cell_type": "code",
      "metadata": {
        "colab": {
          "base_uri": "https://localhost:8080/"
        },
        "id": "IeuoVsU-DnOq",
        "outputId": "2788db6d-de98-4e34-c26b-845ae799dd04"
      },
      "source": [
        "name = str(input(\"What is the name of the student?\"))\n",
        "cls  = str(input(\"Enter your class: \"))\n",
        "hin = int(input(\"Enter marks in Hindi: \"))\n",
        "eng = int(input(\"Enter marks in English: \"))\n",
        "math = int(input(\"Enter marks in Maths: \"))"
      ],
      "execution_count": null,
      "outputs": [
        {
          "name": "stdout",
          "output_type": "stream",
          "text": [
            "What is the name of the student?Ashish\n",
            "Enter your class: 10\n",
            "Enter marks in Hindi: 78\n",
            "Enter marks in English: 85\n",
            "Enter marks in Maths: 80\n"
          ]
        }
      ]
    },
    {
      "cell_type": "code",
      "metadata": {
        "colab": {
          "base_uri": "https://localhost:8080/",
          "height": 35
        },
        "id": "FHv1gyZnFF3E",
        "outputId": "96c24bb8-5bce-44bd-f1c7-58337e21da1f"
      },
      "source": [
        "name"
      ],
      "execution_count": null,
      "outputs": [
        {
          "output_type": "execute_result",
          "data": {
            "application/vnd.google.colaboratory.intrinsic+json": {
              "type": "string"
            },
            "text/plain": [
              "'Ashish'"
            ]
          },
          "metadata": {},
          "execution_count": 2
        }
      ]
    },
    {
      "cell_type": "code",
      "metadata": {
        "colab": {
          "base_uri": "https://localhost:8080/",
          "height": 35
        },
        "id": "B3iUb_24FTLj",
        "outputId": "6fc99a95-737a-4bc6-91c0-eda2b5ee8a7b"
      },
      "source": [
        "cls"
      ],
      "execution_count": null,
      "outputs": [
        {
          "output_type": "execute_result",
          "data": {
            "application/vnd.google.colaboratory.intrinsic+json": {
              "type": "string"
            },
            "text/plain": [
              "'10'"
            ]
          },
          "metadata": {},
          "execution_count": 3
        }
      ]
    },
    {
      "cell_type": "code",
      "metadata": {
        "colab": {
          "base_uri": "https://localhost:8080/"
        },
        "id": "YNCT_aSRFTul",
        "outputId": "9c1b6d3a-5216-4e8f-b13f-2d02e1469928"
      },
      "source": [
        "(hin + eng + math) / 3"
      ],
      "execution_count": null,
      "outputs": [
        {
          "output_type": "execute_result",
          "data": {
            "text/plain": [
              "81.0"
            ]
          },
          "metadata": {},
          "execution_count": 9
        }
      ]
    },
    {
      "cell_type": "code",
      "metadata": {
        "colab": {
          "base_uri": "https://localhost:8080/"
        },
        "id": "t6Ycrm9LFUM9",
        "outputId": "9e0950f0-c9d3-451d-93b2-53126ec7e3d8"
      },
      "source": [
        "eng"
      ],
      "execution_count": null,
      "outputs": [
        {
          "output_type": "execute_result",
          "data": {
            "text/plain": [
              "85"
            ]
          },
          "metadata": {},
          "execution_count": 5
        }
      ]
    },
    {
      "cell_type": "code",
      "metadata": {
        "colab": {
          "base_uri": "https://localhost:8080/"
        },
        "id": "j13JUjJEFU7q",
        "outputId": "aa94b03c-988d-43ba-cc0d-67df15d5e9ef"
      },
      "source": [
        "math"
      ],
      "execution_count": null,
      "outputs": [
        {
          "output_type": "execute_result",
          "data": {
            "text/plain": [
              "80"
            ]
          },
          "metadata": {},
          "execution_count": 6
        }
      ]
    },
    {
      "cell_type": "code",
      "metadata": {
        "id": "baswKAqYFVeE"
      },
      "source": [
        "num1 = 10\n",
        "num2 = 13\n",
        "num3 = 15\n",
        "num4 = 12"
      ],
      "execution_count": null,
      "outputs": []
    },
    {
      "cell_type": "code",
      "metadata": {
        "colab": {
          "base_uri": "https://localhost:8080/"
        },
        "id": "B61RK4jhGF6o",
        "outputId": "ceab1b47-a302-4b2c-9ec8-4878c569fde2"
      },
      "source": [
        "num1 + num2 + num3 + num4"
      ],
      "execution_count": null,
      "outputs": [
        {
          "output_type": "execute_result",
          "data": {
            "text/plain": [
              "50"
            ]
          },
          "metadata": {},
          "execution_count": 11
        }
      ]
    },
    {
      "cell_type": "code",
      "metadata": {
        "id": "ctyDUaeCGIBA"
      },
      "source": [
        "lst = [ 10, 13 , 15 ,12]"
      ],
      "execution_count": null,
      "outputs": []
    },
    {
      "cell_type": "code",
      "metadata": {
        "colab": {
          "base_uri": "https://localhost:8080/"
        },
        "id": "yLm065q9GXcU",
        "outputId": "b1998e17-34b7-4580-af65-e3a1a629f99a"
      },
      "source": [
        "lst"
      ],
      "execution_count": null,
      "outputs": [
        {
          "output_type": "execute_result",
          "data": {
            "text/plain": [
              "[10, 13, 15, 12]"
            ]
          },
          "metadata": {},
          "execution_count": 13
        }
      ]
    },
    {
      "cell_type": "code",
      "metadata": {
        "colab": {
          "base_uri": "https://localhost:8080/"
        },
        "id": "B8N2mUgqGYKY",
        "outputId": "7fc669b0-363c-494d-8d13-f94ec8e6d81a"
      },
      "source": [
        "type(lst)"
      ],
      "execution_count": null,
      "outputs": [
        {
          "output_type": "execute_result",
          "data": {
            "text/plain": [
              "list"
            ]
          },
          "metadata": {},
          "execution_count": 14
        }
      ]
    },
    {
      "cell_type": "code",
      "metadata": {
        "colab": {
          "base_uri": "https://localhost:8080/"
        },
        "id": "gRzC9bjqGc_m",
        "outputId": "a84309f7-98f9-47b4-ea65-2fe7a20f65ac"
      },
      "source": [
        "lst"
      ],
      "execution_count": null,
      "outputs": [
        {
          "output_type": "execute_result",
          "data": {
            "text/plain": [
              "[10, 13, 15, 12]"
            ]
          },
          "metadata": {},
          "execution_count": 15
        }
      ]
    },
    {
      "cell_type": "code",
      "metadata": {
        "id": "FwNHqmhVGk1m"
      },
      "source": [
        "#[10, 13, 15, 12]\n",
        "#[0,   1   2   3] Left to Right\n",
        "#[-4,  -3 -2  -1] Right to LEft"
      ],
      "execution_count": null,
      "outputs": []
    },
    {
      "cell_type": "code",
      "metadata": {
        "colab": {
          "base_uri": "https://localhost:8080/"
        },
        "id": "kmZtdWzxG4jC",
        "outputId": "90b9dbad-f931-4505-e29a-68056bec1d55"
      },
      "source": [
        "lst[-4]"
      ],
      "execution_count": null,
      "outputs": [
        {
          "output_type": "execute_result",
          "data": {
            "text/plain": [
              "10"
            ]
          },
          "metadata": {},
          "execution_count": 25
        }
      ]
    },
    {
      "cell_type": "code",
      "metadata": {
        "colab": {
          "base_uri": "https://localhost:8080/"
        },
        "id": "KpBdYFhjG6bn",
        "outputId": "0e03d9f7-ff95-48d9-8615-b184b2ff9faa"
      },
      "source": [
        "lst"
      ],
      "execution_count": null,
      "outputs": [
        {
          "output_type": "execute_result",
          "data": {
            "text/plain": [
              "[10, 13, 15, 12]"
            ]
          },
          "metadata": {},
          "execution_count": 26
        }
      ]
    },
    {
      "cell_type": "code",
      "metadata": {
        "colab": {
          "base_uri": "https://localhost:8080/"
        },
        "id": "8iV7WGcGH0ft",
        "outputId": "6194b63a-8c56-4c08-9c00-1a57127c71e6"
      },
      "source": [
        "lst[ 0:3 ]"
      ],
      "execution_count": null,
      "outputs": [
        {
          "output_type": "execute_result",
          "data": {
            "text/plain": [
              "[10, 13, 15]"
            ]
          },
          "metadata": {},
          "execution_count": 30
        }
      ]
    },
    {
      "cell_type": "code",
      "metadata": {
        "colab": {
          "base_uri": "https://localhost:8080/"
        },
        "id": "9fqJf67mIBf1",
        "outputId": "602dddd5-0634-413c-f4d8-9e29efc859e7"
      },
      "source": [
        "lst[ 2:4 ]"
      ],
      "execution_count": null,
      "outputs": [
        {
          "output_type": "execute_result",
          "data": {
            "text/plain": [
              "[15, 12]"
            ]
          },
          "metadata": {},
          "execution_count": 31
        }
      ]
    },
    {
      "cell_type": "code",
      "metadata": {
        "colab": {
          "base_uri": "https://localhost:8080/"
        },
        "id": "-jEmxJ4_Iaxj",
        "outputId": "5b79a12a-485f-48e1-f59c-4b6038ba1172"
      },
      "source": [
        "lst[-2: ]"
      ],
      "execution_count": null,
      "outputs": [
        {
          "output_type": "execute_result",
          "data": {
            "text/plain": [
              "[15, 12]"
            ]
          },
          "metadata": {},
          "execution_count": 32
        }
      ]
    },
    {
      "cell_type": "code",
      "metadata": {
        "colab": {
          "base_uri": "https://localhost:8080/"
        },
        "id": "DnVTMJ2tIovw",
        "outputId": "d8ce8bb4-2e16-426c-8684-3bf69fe1747d"
      },
      "source": [
        "lst[ : 3]"
      ],
      "execution_count": null,
      "outputs": [
        {
          "output_type": "execute_result",
          "data": {
            "text/plain": [
              "[10, 13, 15]"
            ]
          },
          "metadata": {},
          "execution_count": 33
        }
      ]
    },
    {
      "cell_type": "code",
      "metadata": {
        "colab": {
          "base_uri": "https://localhost:8080/"
        },
        "id": "0Q91G7HQIvoi",
        "outputId": "7b46a96f-e766-4542-86e4-84dfe5af3373"
      },
      "source": [
        "lst[ 1:-1 ]"
      ],
      "execution_count": null,
      "outputs": [
        {
          "output_type": "execute_result",
          "data": {
            "text/plain": [
              "[13, 15]"
            ]
          },
          "metadata": {},
          "execution_count": 34
        }
      ]
    },
    {
      "cell_type": "code",
      "metadata": {
        "id": "5qzobuKPI1XD"
      },
      "source": [
        "lst = [ 10, 13 , 15 ,12,45,43,23,54]"
      ],
      "execution_count": null,
      "outputs": []
    },
    {
      "cell_type": "code",
      "metadata": {
        "colab": {
          "base_uri": "https://localhost:8080/"
        },
        "id": "9_QTaao1I70T",
        "outputId": "e8b6dfdd-020b-49b8-e64e-77531ed135d2"
      },
      "source": [
        "for i in lst:\n",
        "  print(i)"
      ],
      "execution_count": null,
      "outputs": [
        {
          "output_type": "stream",
          "name": "stdout",
          "text": [
            "10\n",
            "13\n",
            "15\n",
            "12\n",
            "45\n",
            "43\n",
            "23\n",
            "54\n"
          ]
        }
      ]
    },
    {
      "cell_type": "code",
      "metadata": {
        "colab": {
          "base_uri": "https://localhost:8080/"
        },
        "id": "CmUFDWOrJAE7",
        "outputId": "966d4d16-5ac5-4063-fcbc-7bf78d7738be"
      },
      "source": [
        "for i in range(len(lst)):\n",
        "  print(lst[i])"
      ],
      "execution_count": null,
      "outputs": [
        {
          "output_type": "stream",
          "name": "stdout",
          "text": [
            "0 10\n",
            "1 13\n",
            "2 15\n",
            "3 12\n",
            "4 45\n",
            "5 43\n",
            "6 23\n",
            "7 54\n"
          ]
        }
      ]
    },
    {
      "cell_type": "code",
      "metadata": {
        "colab": {
          "base_uri": "https://localhost:8080/"
        },
        "id": "LDgVn5TgJMXr",
        "outputId": "eedfe66d-fc4f-45f0-e738-8a7fb88c23cb"
      },
      "source": [
        "len(lst)"
      ],
      "execution_count": null,
      "outputs": [
        {
          "output_type": "execute_result",
          "data": {
            "text/plain": [
              "4"
            ]
          },
          "metadata": {},
          "execution_count": 46
        }
      ]
    },
    {
      "cell_type": "code",
      "metadata": {
        "colab": {
          "base_uri": "https://localhost:8080/"
        },
        "id": "yREW2xk4JNic",
        "outputId": "b0423a9f-203e-4299-891e-1a5728a34f61"
      },
      "source": [
        "lst[2]"
      ],
      "execution_count": null,
      "outputs": [
        {
          "output_type": "execute_result",
          "data": {
            "text/plain": [
              "15"
            ]
          },
          "metadata": {},
          "execution_count": 39
        }
      ]
    },
    {
      "cell_type": "code",
      "metadata": {
        "colab": {
          "base_uri": "https://localhost:8080/"
        },
        "id": "VW5m5iltJORp",
        "outputId": "9df5d715-f811-44fd-cf9d-0f719ea6cee6"
      },
      "source": [
        "lst[3]"
      ],
      "execution_count": null,
      "outputs": [
        {
          "output_type": "execute_result",
          "data": {
            "text/plain": [
              "12"
            ]
          },
          "metadata": {},
          "execution_count": 40
        }
      ]
    },
    {
      "cell_type": "code",
      "metadata": {
        "id": "sAeFglYJJPgB"
      },
      "source": [
        ""
      ],
      "execution_count": null,
      "outputs": []
    }
  ]
}