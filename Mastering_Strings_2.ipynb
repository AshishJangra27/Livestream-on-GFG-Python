{
  "nbformat": 4,
  "nbformat_minor": 0,
  "metadata": {
    "colab": {
      "name": "Mastering Strings  - 2",
      "provenance": []
    },
    "kernelspec": {
      "name": "python3",
      "display_name": "Python 3"
    },
    "language_info": {
      "name": "python"
    }
  },
  "cells": [
    {
      "cell_type": "code",
      "metadata": {
        "id": "ngqOd-FFo4sn"
      },
      "source": [
        "var = \"this is the live stream on mastering Strings by GFG\""
      ],
      "execution_count": null,
      "outputs": []
    },
    {
      "cell_type": "code",
      "metadata": {
        "colab": {
          "base_uri": "https://localhost:8080/",
          "height": 35
        },
        "id": "QuHhACFI7cPx",
        "outputId": "4634bd04-4554-461b-d3a3-3334ddcc19e1"
      },
      "source": [
        "var"
      ],
      "execution_count": null,
      "outputs": [
        {
          "output_type": "execute_result",
          "data": {
            "application/vnd.google.colaboratory.intrinsic+json": {
              "type": "string"
            },
            "text/plain": [
              "'this is the live stream on mastering Strings by GFG'"
            ]
          },
          "metadata": {},
          "execution_count": 13
        }
      ]
    },
    {
      "cell_type": "code",
      "metadata": {
        "colab": {
          "base_uri": "https://localhost:8080/",
          "height": 35
        },
        "id": "T_8Sc81L7jtV",
        "outputId": "7fea621e-263d-4ce5-83f4-a3b5b4cca796"
      },
      "source": [
        "var.upper()"
      ],
      "execution_count": null,
      "outputs": [
        {
          "output_type": "execute_result",
          "data": {
            "application/vnd.google.colaboratory.intrinsic+json": {
              "type": "string"
            },
            "text/plain": [
              "'THIS IS THE LIVE STREAM ON MASTERING STRINGS BY GFG'"
            ]
          },
          "metadata": {},
          "execution_count": 14
        }
      ]
    },
    {
      "cell_type": "code",
      "metadata": {
        "colab": {
          "base_uri": "https://localhost:8080/",
          "height": 35
        },
        "id": "h_0k2iNX7uMP",
        "outputId": "d4a4e1a2-c329-47ac-ec20-3506c4f21b33"
      },
      "source": [
        "var.lower()"
      ],
      "execution_count": null,
      "outputs": [
        {
          "output_type": "execute_result",
          "data": {
            "application/vnd.google.colaboratory.intrinsic+json": {
              "type": "string"
            },
            "text/plain": [
              "'this is the live stream on mastering strings by gfg'"
            ]
          },
          "metadata": {},
          "execution_count": 15
        }
      ]
    },
    {
      "cell_type": "code",
      "metadata": {
        "colab": {
          "base_uri": "https://localhost:8080/",
          "height": 35
        },
        "id": "upX3JFNc7zyM",
        "outputId": "992afa43-aecf-449a-90ed-705660b16915"
      },
      "source": [
        "var.capitalize()"
      ],
      "execution_count": null,
      "outputs": [
        {
          "output_type": "execute_result",
          "data": {
            "application/vnd.google.colaboratory.intrinsic+json": {
              "type": "string"
            },
            "text/plain": [
              "'This is the live stream on mastering strings by gfg'"
            ]
          },
          "metadata": {},
          "execution_count": 16
        }
      ]
    },
    {
      "cell_type": "code",
      "metadata": {
        "colab": {
          "base_uri": "https://localhost:8080/",
          "height": 35
        },
        "id": "M0nRoBZw76I5",
        "outputId": "44945841-604a-4efa-aa16-a51a6e24108a"
      },
      "source": [
        "var.title()"
      ],
      "execution_count": null,
      "outputs": [
        {
          "output_type": "execute_result",
          "data": {
            "application/vnd.google.colaboratory.intrinsic+json": {
              "type": "string"
            },
            "text/plain": [
              "'This Is The Live Stream On Mastering Strings By Gfg'"
            ]
          },
          "metadata": {},
          "execution_count": 17
        }
      ]
    },
    {
      "cell_type": "code",
      "metadata": {
        "id": "vKhlReNn8KoO"
      },
      "source": [
        "var = \"Ashish is a mentor. Ashish is a mentor. Ashish is a mentor. Ashish is a mentor.\""
      ],
      "execution_count": null,
      "outputs": []
    },
    {
      "cell_type": "code",
      "metadata": {
        "colab": {
          "base_uri": "https://localhost:8080/",
          "height": 35
        },
        "id": "32AEbiLw8oou",
        "outputId": "6dfbf3f6-47dc-4a26-af3a-97d153c71eee"
      },
      "source": [
        "var"
      ],
      "execution_count": null,
      "outputs": [
        {
          "output_type": "execute_result",
          "data": {
            "application/vnd.google.colaboratory.intrinsic+json": {
              "type": "string"
            },
            "text/plain": [
              "'Ashish is a mentor. Ashish is a mentor. Ashish is a mentor. Ashish is a mentor.'"
            ]
          },
          "metadata": {},
          "execution_count": 19
        }
      ]
    },
    {
      "cell_type": "code",
      "metadata": {
        "colab": {
          "base_uri": "https://localhost:8080/",
          "height": 35
        },
        "id": "jScBbvQx8pDt",
        "outputId": "bf9a3ebd-d24e-4f28-e017-1ee3595156d1"
      },
      "source": [
        "var.replace(\"Ashish\" , \"Manoj\")"
      ],
      "execution_count": null,
      "outputs": [
        {
          "output_type": "execute_result",
          "data": {
            "application/vnd.google.colaboratory.intrinsic+json": {
              "type": "string"
            },
            "text/plain": [
              "'Manoj is a mentor. Manoj is a mentor. Manoj is a mentor. Manoj is a mentor.'"
            ]
          },
          "metadata": {},
          "execution_count": 20
        }
      ]
    },
    {
      "cell_type": "markdown",
      "metadata": {
        "id": "LC8SrRti_Cs4"
      },
      "source": [
        "## Cloning Capitalise Function"
      ]
    },
    {
      "cell_type": "code",
      "metadata": {
        "id": "bPsAAVdy81yK"
      },
      "source": [
        "var = \"the live stream on mastering Strings by GFG\""
      ],
      "execution_count": null,
      "outputs": []
    },
    {
      "cell_type": "code",
      "metadata": {
        "colab": {
          "base_uri": "https://localhost:8080/"
        },
        "id": "80uJ7Lac9EPz",
        "outputId": "3c884ab9-517a-4102-820e-2448d1856159"
      },
      "source": [
        "if (var[0].isupper() == False):\n",
        "  print(var[0].upper() +  var[1:].lower())\n",
        "else:\n",
        "  print(var[0] + var[1:].lower())"
      ],
      "execution_count": null,
      "outputs": [
        {
          "output_type": "stream",
          "name": "stdout",
          "text": [
            "The live stream on mastering strings by gfg\n"
          ]
        }
      ]
    },
    {
      "cell_type": "code",
      "metadata": {
        "colab": {
          "base_uri": "https://localhost:8080/",
          "height": 35
        },
        "id": "p0-MYNJ89lkb",
        "outputId": "1a3a43ad-7290-4916-9b39-ada8a7213c54"
      },
      "source": [
        "var"
      ],
      "execution_count": null,
      "outputs": [
        {
          "output_type": "execute_result",
          "data": {
            "application/vnd.google.colaboratory.intrinsic+json": {
              "type": "string"
            },
            "text/plain": [
              "'this is the live stream on mastering Strings by GFG'"
            ]
          },
          "metadata": {},
          "execution_count": 27
        }
      ]
    },
    {
      "cell_type": "markdown",
      "metadata": {
        "id": "9qHmqbXS_Icl"
      },
      "source": [
        "## Cloninig Title Function"
      ]
    },
    {
      "cell_type": "code",
      "metadata": {
        "id": "x3ZzgvCe9maU"
      },
      "source": [
        "var = \"the live stream on mastering Strings by GFG\""
      ],
      "execution_count": null,
      "outputs": []
    },
    {
      "cell_type": "code",
      "metadata": {
        "colab": {
          "base_uri": "https://localhost:8080/",
          "height": 35
        },
        "id": "EhFo5TDP_R4q",
        "outputId": "d58da04d-b8d0-4d89-9f12-d4324ee49224"
      },
      "source": [
        "var"
      ],
      "execution_count": null,
      "outputs": [
        {
          "output_type": "execute_result",
          "data": {
            "application/vnd.google.colaboratory.intrinsic+json": {
              "type": "string"
            },
            "text/plain": [
              "'the live stream on mastering Strings by GFG'"
            ]
          },
          "metadata": {},
          "execution_count": 40
        }
      ]
    },
    {
      "cell_type": "code",
      "metadata": {
        "id": "tTf4jFil_SLc"
      },
      "source": [
        "lst = var.split(\" \")"
      ],
      "execution_count": null,
      "outputs": []
    },
    {
      "cell_type": "code",
      "metadata": {
        "colab": {
          "base_uri": "https://localhost:8080/"
        },
        "id": "0MUaL9eF_oPp",
        "outputId": "c1fb59e8-ab82-4ba8-8724-6799bf3117f3"
      },
      "source": [
        "lst"
      ],
      "execution_count": null,
      "outputs": [
        {
          "output_type": "execute_result",
          "data": {
            "text/plain": [
              "['the', 'live', 'stream', 'on', 'mastering', 'Strings', 'by', 'GFG']"
            ]
          },
          "metadata": {},
          "execution_count": 45
        }
      ]
    },
    {
      "cell_type": "code",
      "metadata": {
        "colab": {
          "base_uri": "https://localhost:8080/"
        },
        "id": "OIsosGXI_7CQ",
        "outputId": "90a1af9e-db32-49c7-c77c-060219e74b59"
      },
      "source": [
        "for i in lst:\n",
        "  print(i[0].upper() + i[1:].lower())"
      ],
      "execution_count": null,
      "outputs": [
        {
          "output_type": "stream",
          "name": "stdout",
          "text": [
            "The\n",
            "Live\n",
            "Stream\n",
            "On\n",
            "Mastering\n",
            "Strings\n",
            "By\n",
            "Gfg\n"
          ]
        }
      ]
    },
    {
      "cell_type": "code",
      "metadata": {
        "id": "HCZm1vxHAZ5w"
      },
      "source": [
        "var = \"the1 live stream on mastering Strings by GFG. the2 live stream on mastering Strings by GFG. the3 live stream on mastering Strings by GFG\""
      ],
      "execution_count": null,
      "outputs": []
    },
    {
      "cell_type": "code",
      "metadata": {
        "colab": {
          "base_uri": "https://localhost:8080/"
        },
        "id": "zxOkjbXcCA46",
        "outputId": "5642484a-1559-4ce1-b88a-5f56bbfdf5b8"
      },
      "source": [
        "len(var.split(\".\"))"
      ],
      "execution_count": null,
      "outputs": [
        {
          "output_type": "execute_result",
          "data": {
            "text/plain": [
              "3"
            ]
          },
          "metadata": {},
          "execution_count": 59
        }
      ]
    },
    {
      "cell_type": "code",
      "metadata": {
        "id": "EKz9WGptCDis"
      },
      "source": [
        ""
      ],
      "execution_count": null,
      "outputs": []
    }
  ]
}