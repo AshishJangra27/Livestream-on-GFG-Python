{
  "nbformat": 4,
  "nbformat_minor": 0,
  "metadata": {
    "colab": {
      "name": "Mastering Lists in Python - 2",
      "provenance": []
    },
    "kernelspec": {
      "name": "python3",
      "display_name": "Python 3"
    },
    "language_info": {
      "name": "python"
    }
  },
  "cells": [
    {
      "cell_type": "code",
      "metadata": {
        "id": "2a8bQsjvNtGs"
      },
      "source": [
        "#    Roll_no, Name, Hindi, Eng, Sci, Math, Pun \n",
        "\n",
        "lst = [[1, \"Ashish\", 78, 88, 79, 85, 85],\n",
        "       [2, \"Manish\", 58, 41, 49, 85, 85],\n",
        "       [3, \"Hitesh\", 78, 52, 69, 85, 85],\n",
        "       [4, \"Bishal\", 88, 34, 77, 85, 85],\n",
        "       [5, \"Vishal\", 98, 54, 99, 85, 85],\n",
        "       [6, \"Manoj\",  74, 56, 76, 85, 85],\n",
        "       [7, \"Bharat\", 65, 65, 65, 85, 85]]"
      ],
      "execution_count": null,
      "outputs": []
    },
    {
      "cell_type": "code",
      "metadata": {
        "colab": {
          "base_uri": "https://localhost:8080/"
        },
        "id": "TTHjcP7UPM3-",
        "outputId": "2e8a8b4d-c1f3-4bf2-e07b-1ffd78da7b24"
      },
      "source": [
        "roll_no = int(input(\"Enter the roll no: \"))\n",
        "\n",
        "print(\"*********************\")\n",
        "for i in lst:\n",
        "  if ( i[0] == roll_no ):\n",
        "    print(\"Roll No: \", i[0])\n",
        "    print(\"Name: \", i[1])\n",
        "    print(\"Eng: \", i[2])\n",
        "    print(\"Hin: \", i[3])\n",
        "    print(\"Sci: \", i[4])\n",
        "    print(\"Mat: \", i[5])\n",
        "    print(\"Pun: \", i[6])\n",
        "    print(\"Total Marks Obtained\", i[2] + i[3] + i[4] + i[5] +  i[6], \"out of 500\")\n",
        "    print(\"Average: \", (i[2] + i[3] + i[4] + i[5] +  i[6])/5, \"%\")\n",
        "\n",
        "    avg = int(i[2] + i[3] + i[4] + i[5] +  i[6])/5\n",
        "\n",
        "    if (avg > 90 and avg < 100):\n",
        "      print(\"Grade: A+\")\n",
        "\n",
        "    elif (avg > 80 and avg <= 89):\n",
        "      print(\"Grade: A\")\n",
        "\n",
        "    elif (avg > 70 and avg <= 79):\n",
        "      print(\"Grade: B+\")\n",
        "\n",
        "    elif (avg > 60 and avg <= 69):\n",
        "      print(\"Grade: B\")\n",
        "\n",
        "    elif (avg > 50 and avg <= 59):\n",
        "      print(\"Grade: C\")\n",
        "    \n",
        "    else:\n",
        "      print(\"Grade: F\")\n",
        "\n",
        "print(\"*********************\")"
      ],
      "execution_count": null,
      "outputs": [
        {
          "output_type": "stream",
          "name": "stdout",
          "text": [
            "Enter the roll no: 7\n",
            "*********************\n",
            "Roll No:  7\n",
            "Name:  Bharat\n",
            "Eng:  65\n",
            "Hin:  65\n",
            "Sci:  65\n",
            "Mat:  85\n",
            "Pun:  85\n",
            "Total Marks Obtained 365 out of 500\n",
            "Average:  73.0 %\n",
            "Grade: B+\n",
            "*********************\n"
          ]
        }
      ]
    },
    {
      "cell_type": "code",
      "metadata": {
        "colab": {
          "base_uri": "https://localhost:8080/"
        },
        "id": "daDZekaGPQp5",
        "outputId": "48e7c1ea-b38a-4980-81e2-14617e69c664"
      },
      "source": [
        "roll_no"
      ],
      "execution_count": null,
      "outputs": [
        {
          "output_type": "execute_result",
          "data": {
            "text/plain": [
              "5"
            ]
          },
          "metadata": {},
          "execution_count": 15
        }
      ]
    },
    {
      "cell_type": "code",
      "metadata": {
        "colab": {
          "base_uri": "https://localhost:8080/"
        },
        "id": "YDak7yYUPo6w",
        "outputId": "5eecd227-4d89-49f4-c9d1-e9e9e793b214"
      },
      "source": [
        "for i in lst:\n",
        "  if ( i[0] == roll_no ):\n",
        "    print(\"Roll No: \", i[0])\n",
        "    print(\"Eng: \", i[1])\n",
        "    print(\"Hin: \", i[2])\n",
        "    print(\"Sci: \", i[3])\n",
        "    print(\"Math: \", i[4])\n",
        "    print(\"Pun: \", i[5])"
      ],
      "execution_count": null,
      "outputs": [
        {
          "output_type": "stream",
          "name": "stdout",
          "text": [
            "Roll No:  5\n",
            "Eng:  Vishal\n",
            "Hin:  98\n",
            "Sci:  54\n",
            "Math:  99\n",
            "Pun:  85\n"
          ]
        }
      ]
    },
    {
      "cell_type": "code",
      "metadata": {
        "colab": {
          "base_uri": "https://localhost:8080/"
        },
        "id": "XzMaJUvoPtCO",
        "outputId": "19e352cd-066a-48c2-b107-16f210c75da4"
      },
      "source": [
        "score = []\n",
        "\n",
        "\n",
        "for i in lst:\n",
        "\n",
        "  print(\"Roll No: \", i[0])\n",
        "  print(\"Name: \", i[1])\n",
        "  print(\"Eng: \", i[2])\n",
        "  print(\"Hin: \", i[3])\n",
        "  print(\"Sci: \", i[4])\n",
        "  print(\"Mat: \", i[5])\n",
        "  print(\"Pun: \", i[6])\n",
        "  print(\"Total Marks Obtained\", i[2] + i[3] + i[4] + i[5] +  i[6], \"out of 500\")\n",
        "  print(\"Average: \", (i[2] + i[3] + i[4] + i[5] +  i[6])/5, \"%\")\n",
        "\n",
        "  avg = int(i[2] + i[3] + i[4] + i[5] +  i[6])/5\n",
        "\n",
        "  if (avg > 90 and avg < 100):\n",
        "    print(\"Grade: A+\")\n",
        "\n",
        "  elif (avg > 80 and avg <= 89):\n",
        "    print(\"Grade: A\")\n",
        "\n",
        "  elif (avg > 70 and avg <= 79):\n",
        "    print(\"Grade: B+\")\n",
        "\n",
        "  elif (avg > 60 and avg <= 69):\n",
        "    print(\"Grade: B\")\n",
        "\n",
        "  elif (avg > 50 and avg <= 59):\n",
        "    print(\"Grade: C\")\n",
        "    \n",
        "  else:\n",
        "    print(\"Grade: F\")\n",
        "\n",
        "  score.append(avg)\n",
        "  print(\"***********************************\\n\\n\")"
      ],
      "execution_count": null,
      "outputs": [
        {
          "output_type": "stream",
          "name": "stdout",
          "text": [
            "Roll No:  1\n",
            "Name:  Ashish\n",
            "Eng:  78\n",
            "Hin:  88\n",
            "Sci:  79\n",
            "Mat:  85\n",
            "Pun:  85\n",
            "Total Marks Obtained 415 out of 500\n",
            "Average:  83.0 %\n",
            "Grade: A\n",
            "***********************************\n",
            "\n",
            "\n",
            "Roll No:  2\n",
            "Name:  Manish\n",
            "Eng:  58\n",
            "Hin:  41\n",
            "Sci:  49\n",
            "Mat:  85\n",
            "Pun:  85\n",
            "Total Marks Obtained 318 out of 500\n",
            "Average:  63.6 %\n",
            "Grade: B\n",
            "***********************************\n",
            "\n",
            "\n",
            "Roll No:  3\n",
            "Name:  Hitesh\n",
            "Eng:  78\n",
            "Hin:  52\n",
            "Sci:  69\n",
            "Mat:  85\n",
            "Pun:  85\n",
            "Total Marks Obtained 369 out of 500\n",
            "Average:  73.8 %\n",
            "Grade: B+\n",
            "***********************************\n",
            "\n",
            "\n",
            "Roll No:  4\n",
            "Name:  Bishal\n",
            "Eng:  88\n",
            "Hin:  34\n",
            "Sci:  77\n",
            "Mat:  85\n",
            "Pun:  85\n",
            "Total Marks Obtained 369 out of 500\n",
            "Average:  73.8 %\n",
            "Grade: B+\n",
            "***********************************\n",
            "\n",
            "\n",
            "Roll No:  5\n",
            "Name:  Vishal\n",
            "Eng:  98\n",
            "Hin:  54\n",
            "Sci:  99\n",
            "Mat:  85\n",
            "Pun:  85\n",
            "Total Marks Obtained 421 out of 500\n",
            "Average:  84.2 %\n",
            "Grade: A\n",
            "***********************************\n",
            "\n",
            "\n",
            "Roll No:  6\n",
            "Name:  Manoj\n",
            "Eng:  74\n",
            "Hin:  56\n",
            "Sci:  76\n",
            "Mat:  85\n",
            "Pun:  85\n",
            "Total Marks Obtained 376 out of 500\n",
            "Average:  75.2 %\n",
            "Grade: B+\n",
            "***********************************\n",
            "\n",
            "\n",
            "Roll No:  7\n",
            "Name:  Bharat\n",
            "Eng:  65\n",
            "Hin:  65\n",
            "Sci:  65\n",
            "Mat:  85\n",
            "Pun:  85\n",
            "Total Marks Obtained 365 out of 500\n",
            "Average:  73.0 %\n",
            "Grade: B+\n",
            "***********************************\n",
            "\n",
            "\n"
          ]
        }
      ]
    },
    {
      "cell_type": "code",
      "metadata": {
        "colab": {
          "base_uri": "https://localhost:8080/"
        },
        "id": "kX68xtbKPvMG",
        "outputId": "7c89bef0-b305-4a4c-e604-c1924b7e7da2"
      },
      "source": [
        "score"
      ],
      "execution_count": null,
      "outputs": [
        {
          "output_type": "execute_result",
          "data": {
            "text/plain": [
              "[83.0, 63.6, 73.8, 73.8, 84.2, 75.2, 73.0]"
            ]
          },
          "metadata": {},
          "execution_count": 39
        }
      ]
    },
    {
      "cell_type": "code",
      "metadata": {
        "colab": {
          "base_uri": "https://localhost:8080/",
          "height": 35
        },
        "id": "nSa9cn0bP_kf",
        "outputId": "869e0b9d-ca07-4ab3-d4a0-1d7f06724196"
      },
      "source": [
        "lst[4][1]"
      ],
      "execution_count": null,
      "outputs": [
        {
          "output_type": "execute_result",
          "data": {
            "application/vnd.google.colaboratory.intrinsic+json": {
              "type": "string"
            },
            "text/plain": [
              "'Vishal'"
            ]
          },
          "metadata": {},
          "execution_count": 10
        }
      ]
    },
    {
      "cell_type": "code",
      "metadata": {
        "colab": {
          "base_uri": "https://localhost:8080/",
          "height": 35
        },
        "id": "-hzuUQ28QAb_",
        "outputId": "ec137aca-f579-4697-b9d9-74c0aad028b4"
      },
      "source": [
        "lst[5][1]"
      ],
      "execution_count": null,
      "outputs": [
        {
          "output_type": "execute_result",
          "data": {
            "application/vnd.google.colaboratory.intrinsic+json": {
              "type": "string"
            },
            "text/plain": [
              "'Manoj'"
            ]
          },
          "metadata": {},
          "execution_count": 11
        }
      ]
    },
    {
      "cell_type": "code",
      "metadata": {
        "colab": {
          "base_uri": "https://localhost:8080/",
          "height": 35
        },
        "id": "cjHkEX-aQBQV",
        "outputId": "5946fcb0-9f2f-4d28-f2c1-f00e5e58c93a"
      },
      "source": [
        "lst[6][1]"
      ],
      "execution_count": null,
      "outputs": [
        {
          "output_type": "execute_result",
          "data": {
            "application/vnd.google.colaboratory.intrinsic+json": {
              "type": "string"
            },
            "text/plain": [
              "'Bharat'"
            ]
          },
          "metadata": {},
          "execution_count": 12
        }
      ]
    },
    {
      "cell_type": "code",
      "metadata": {
        "id": "ZcTSAeEJQCkP"
      },
      "source": [
        ""
      ],
      "execution_count": null,
      "outputs": []
    }
  ]
}