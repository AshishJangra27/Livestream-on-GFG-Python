{
  "nbformat": 4,
  "nbformat_minor": 0,
  "metadata": {
    "colab": {
      "name": "Multi Dimensional Lists Operation",
      "provenance": []
    },
    "kernelspec": {
      "name": "python3",
      "display_name": "Python 3"
    },
    "language_info": {
      "name": "python"
    }
  },
  "cells": [
    {
      "cell_type": "code",
      "metadata": {
        "id": "5sxdmWVfjrpw"
      },
      "source": [
        " lst = [[1,2,3], \n",
        "        [4,5,6], \n",
        "        [7,8,9]]"
      ],
      "execution_count": 1,
      "outputs": []
    },
    {
      "cell_type": "code",
      "metadata": {
        "colab": {
          "base_uri": "https://localhost:8080/"
        },
        "id": "jBTkFKAjqwjB",
        "outputId": "d1013e8f-6308-4e4a-e764-97a6eabcace0"
      },
      "source": [
        "print(lst[0][0])\n",
        "print(lst[0][1])\n",
        "print(lst[0][2])\n",
        "\n",
        "print(lst[1][0])\n",
        "print(lst[1][1])\n",
        "print(lst[1][2])\n",
        "\n",
        "print(lst[2][0])\n",
        "print(lst[2][1])\n",
        "print(lst[2][2])"
      ],
      "execution_count": 14,
      "outputs": [
        {
          "output_type": "stream",
          "name": "stdout",
          "text": [
            "1\n",
            "2\n",
            "3\n",
            "4\n",
            "5\n",
            "6\n",
            "7\n",
            "8\n",
            "9\n"
          ]
        }
      ]
    },
    {
      "cell_type": "markdown",
      "metadata": {
        "id": "QDH-in6ctZLY"
      },
      "source": [
        "## Find sum of all emenents of a 2d list row-wise "
      ]
    },
    {
      "cell_type": "code",
      "metadata": {
        "colab": {
          "base_uri": "https://localhost:8080/"
        },
        "id": "QxjWeHKOtMlx",
        "outputId": "05b4cbbf-4a1a-4914-9ae6-3cebf8d82ae2"
      },
      "source": [
        "for i in lst:\n",
        "  sm = 0\n",
        "\n",
        "  for j in i:\n",
        "    sm = sm + j\n",
        "    \n",
        "  print(i,\" : \", sm)"
      ],
      "execution_count": 25,
      "outputs": [
        {
          "output_type": "stream",
          "name": "stdout",
          "text": [
            "[1, 2, 3]  :  6\n",
            "[4, 5, 6]  :  15\n",
            "[7, 8, 9]  :  24\n"
          ]
        }
      ]
    },
    {
      "cell_type": "markdown",
      "metadata": {
        "id": "ATU_O9-WtEOM"
      },
      "source": [
        "## Find sum of all the elements in a 2d list"
      ]
    },
    {
      "cell_type": "code",
      "metadata": {
        "colab": {
          "base_uri": "https://localhost:8080/"
        },
        "id": "AI2l4lgJrBQF",
        "outputId": "8868447c-60ad-4d0a-b8a0-8d984d73d8eb"
      },
      "source": [
        "sm = 0\n",
        "\n",
        "for i in lst:\n",
        "  for j in i:\n",
        "    sm = sm + j\n",
        "    \n",
        "print(\"Sum is\",sm)"
      ],
      "execution_count": 26,
      "outputs": [
        {
          "output_type": "stream",
          "name": "stdout",
          "text": [
            "Sum is 45\n"
          ]
        }
      ]
    },
    {
      "cell_type": "markdown",
      "metadata": {
        "id": "PQBH1LxVtmB4"
      },
      "source": [
        "## Finding Diagonal Elements"
      ]
    },
    {
      "cell_type": "code",
      "metadata": {
        "id": "zLtIBMp_rFi-"
      },
      "source": [
        " lst = [[1,2,3], \n",
        "        [4,5,6], \n",
        "        [7,8,9]]"
      ],
      "execution_count": 27,
      "outputs": []
    },
    {
      "cell_type": "code",
      "metadata": {
        "colab": {
          "base_uri": "https://localhost:8080/"
        },
        "id": "YkoOodIQtk0p",
        "outputId": "78d32443-5d13-4317-ef81-c051ec073132"
      },
      "source": [
        "if (len(lst) == len(lst[0])):\n",
        "  print(\"This is a square matrix, You can process futher with the process\")\n",
        "\n",
        "  for i in range(len(lst)):\n",
        "    print(lst[i][i])\n",
        "else:\n",
        "  print(\"Your matrix is not square\")"
      ],
      "execution_count": 34,
      "outputs": [
        {
          "output_type": "stream",
          "name": "stdout",
          "text": [
            "This is a square matrix, You can process futher with the process\n",
            "1\n",
            "5\n",
            "9\n"
          ]
        }
      ]
    },
    {
      "cell_type": "markdown",
      "metadata": {
        "id": "A10CyOKvvPw8"
      },
      "source": [
        "## Finding sum of all the diagonal elements\n",
        "\n"
      ]
    },
    {
      "cell_type": "code",
      "metadata": {
        "colab": {
          "base_uri": "https://localhost:8080/"
        },
        "id": "5rfgj3Yatv-1",
        "outputId": "5cda8cb8-9a67-41d4-e129-095c745c3edf"
      },
      "source": [
        "sm = 0\n",
        "\n",
        "for i in range(len(lst)):\n",
        "  sm = sm+ lst[i][i]\n",
        "\n",
        "print(sm)"
      ],
      "execution_count": 35,
      "outputs": [
        {
          "output_type": "stream",
          "name": "stdout",
          "text": [
            "15\n"
          ]
        }
      ]
    },
    {
      "cell_type": "markdown",
      "metadata": {
        "id": "KMMt6Lomvg5x"
      },
      "source": [
        "## Finding sum of all the opposite diagonal elements"
      ]
    },
    {
      "cell_type": "code",
      "metadata": {
        "id": "YkCcCUTGuYSg"
      },
      "source": [
        " lst = [[1,2,3,4], \n",
        "        [4,5,6,5], \n",
        "        [7,8,9,6],\n",
        "        [9,8,9,6]]"
      ],
      "execution_count": 41,
      "outputs": []
    },
    {
      "cell_type": "code",
      "metadata": {
        "id": "SUV4Imxdud8A"
      },
      "source": [
        "sm = 0\n",
        "\n",
        "for i in range(len(lst)):\n",
        "  sm += lst[i][len(lst) - i - 1]"
      ],
      "execution_count": 49,
      "outputs": []
    }
  ]
}